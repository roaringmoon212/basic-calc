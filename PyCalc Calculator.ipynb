{
 "cells": [
  {
   "cell_type": "markdown",
   "id": "3689dfc3-c6ac-4a0e-806c-c8756a9f6745",
   "metadata": {},
   "source": [
    "# Making a Calculator using PyQt6"
   ]
  },
  {
   "cell_type": "markdown",
   "id": "415d833e-5c5f-4f61-9a59-74642c17137b",
   "metadata": {},
   "source": [
    "This is a script used to create a simple calculator, built to test PyQt6 and its functions."
   ]
  },
  {
   "cell_type": "markdown",
   "id": "64eca620-e537-468f-ab33-57250ad22629",
   "metadata": {},
   "source": [
    "Importing all required packages and setting global variables:"
   ]
  },
  {
   "cell_type": "code",
   "execution_count": 1,
   "id": "0b9a68a5-8587-40ca-ae7e-24989eb3b18d",
   "metadata": {},
   "outputs": [],
   "source": [
    "import sys\n",
    "from PyQt6.QtCore import Qt\n",
    "from PyQt6.QtWidgets import (QApplication, QGridLayout, QLineEdit, QMainWindow,\n",
    "                           QPushButton, QVBoxLayout, QWidget)\n",
    "from functools import partial\n",
    "\n",
    "WINDOW_SIZE = 235\n",
    "DISPLAY_HEIGHT = 35\n",
    "BUTTON_SIZE = 40\n",
    "ERROR_MSG = 'Error!'"
   ]
  },
  {
   "cell_type": "markdown",
   "id": "7960975b-1c6d-4221-acb9-7b72a44f0f36",
   "metadata": {},
   "source": [
    "Boilerplate code with main function:"
   ]
  },
  {
   "cell_type": "code",
   "execution_count": 2,
   "id": "0e7fdc41-1875-4aea-8322-316647eac8f3",
   "metadata": {},
   "outputs": [],
   "source": [
    "class PyCalcWindow(QMainWindow):\n",
    "    '''Main window for the app'''\n",
    "    def __init__(self):\n",
    "        super().__init__()\n",
    "        self.setWindowTitle(\"PyCalc\")\n",
    "        self.setFixedSize(WINDOW_SIZE, WINDOW_SIZE)\n",
    "        centralWidget = QWidget(self)\n",
    "        self.setCentralWidget(centralWidget)"
   ]
  },
  {
   "cell_type": "markdown",
   "id": "2fd092fb-3f65-47ff-93a1-40184eb69465",
   "metadata": {},
   "source": [
    "Developing the main app:"
   ]
  },
  {
   "cell_type": "code",
   "execution_count": 3,
   "id": "11af59ad-d0cd-43bd-8584-dca24d02ad47",
   "metadata": {},
   "outputs": [
    {
     "ename": "SystemExit",
     "evalue": "0",
     "output_type": "error",
     "traceback": [
      "An exception has occurred, use %tb to see the full traceback.\n",
      "\u001b[1;31mSystemExit\u001b[0m\u001b[1;31m:\u001b[0m 0\n"
     ]
    },
    {
     "name": "stderr",
     "output_type": "stream",
     "text": [
      "C:\\ProgramData\\Anaconda3\\lib\\site-packages\\IPython\\core\\interactiveshell.py:3468: UserWarning: To exit: use 'exit', 'quit', or Ctrl-D.\n",
      "  warn(\"To exit: use 'exit', 'quit', or Ctrl-D.\", stacklevel=1)\n"
     ]
    }
   ],
   "source": [
    "class PyCalcWindow(QMainWindow):\n",
    "    '''Main window for the app'''\n",
    "    def __init__(self):\n",
    "        super().__init__()\n",
    "        self.setWindowTitle(\"PyCalc\")\n",
    "        self.setFixedSize(WINDOW_SIZE, WINDOW_SIZE)\n",
    "        self.generalLayout = QVBoxLayout()\n",
    "        centralWidget = QWidget(self)\n",
    "        centralWidget.setLayout(self.generalLayout)\n",
    "        self.setCentralWidget(centralWidget)\n",
    "        self._createDisplay()\n",
    "        self._createButtons()\n",
    "\n",
    "    def _createDisplay(self):\n",
    "        self.display = QLineEdit()\n",
    "        self.display.setFixedHeight(DISPLAY_HEIGHT)\n",
    "        self.display.setAlignment(Qt.AlignmentFlag.AlignRight)\n",
    "        self.display.setReadOnly(True)\n",
    "        self.generalLayout.addWidget(self.display)\n",
    "\n",
    "    def _createButtons(self):\n",
    "        self.buttonMap = {}\n",
    "        buttonsLayout = QGridLayout()\n",
    "        keyBoard = [\n",
    "            ['7', '8', '9', '/', 'C'],\n",
    "            ['4', '5', '6', '*', '('],\n",
    "            ['1', '2', '3', '-', ')'],\n",
    "            ['0', '00', '.', '+', '='],\n",
    "        ]\n",
    "        for row, keys in enumerate(keyBoard):\n",
    "            for col, key in enumerate(keys):\n",
    "                self.buttonMap[key] = QPushButton(key)\n",
    "                self.buttonMap[key].setFixedSize(BUTTON_SIZE, BUTTON_SIZE)\n",
    "                buttonsLayout.addWidget(self.buttonMap[key], row, col)\n",
    "        self.generalLayout.addLayout(buttonsLayout)\n",
    "\n",
    "    def setDisplayText(self, text):\n",
    "        '''Set display's text'''\n",
    "        self.display.setText(text)\n",
    "        self.display.setFocus()\n",
    "\n",
    "    def displayText(self):\n",
    "        '''Get display text'''\n",
    "        return self.display.text()\n",
    "\n",
    "    def clearDisplay(self):\n",
    "        '''Clear the display'''\n",
    "        self.setDisplayText()\n",
    "\n",
    "def evaluateExpression(expression):\n",
    "    '''Evaluate an expression (model)'''\n",
    "    try:\n",
    "        result = str(eval(expression, {}, {}))\n",
    "    except Exception:\n",
    "        result = ERROR_MSG\n",
    "    return result\n",
    "\n",
    "class PyCalc:\n",
    "    '''PyCalc's controller class'''\n",
    "    def __init__(self, model, view):\n",
    "        self._evaluate = model\n",
    "        self._view = view\n",
    "        self._connectSignalsAndSlots()\n",
    "\n",
    "    def _calculateResult(self):\n",
    "        result = self._evaluate(expression=self._view.displayText())\n",
    "        self._view.setDisplayText(result)\n",
    "\n",
    "    def _buildExpression(self, subExpression):\n",
    "        if self._view.displayText() == ERROR_MSG:\n",
    "            self._view.clearDisplay()\n",
    "        expression = self._view.displayText() + subExpression\n",
    "        self._view.setDisplayText(expression)\n",
    "\n",
    "    def _connectSignalsAndSlots(self):\n",
    "        for keySymbol, button in self._view.buttonMap.items():\n",
    "            if keySymbol not in {'=', 'C'}:\n",
    "                button.clicked.connect(\n",
    "                    partial(self._buildExpression, keySymbol)\n",
    "                )\n",
    "        self._view.buttonMap[\"=\"].clicked.connect(self._calculateResult)\n",
    "        self._view.display.returnPressed.connect(self._calculateResult)\n",
    "        self._view.buttonMap[\"C\"].clicked.connect(self._view.clearDisplay)\n",
    "\n",
    "def main():\n",
    "    '''Main function for the app'''\n",
    "    pycalcApp = QApplication([])\n",
    "    pycalcWindow = PyCalcWindow()\n",
    "    pycalcWindow.show()\n",
    "    PyCalc(model=evaluateExpression, view=pycalcWindow)\n",
    "    sys.exit(pycalcApp.exec())\n",
    "\n",
    "if __name__ == \"__main__\":\n",
    "    main()"
   ]
  }
 ],
 "metadata": {
  "kernelspec": {
   "display_name": "Python 3 (ipykernel)",
   "language": "python",
   "name": "python3"
  },
  "language_info": {
   "codemirror_mode": {
    "name": "ipython",
    "version": 3
   },
   "file_extension": ".py",
   "mimetype": "text/x-python",
   "name": "python",
   "nbconvert_exporter": "python",
   "pygments_lexer": "ipython3",
   "version": "3.9.13"
  }
 },
 "nbformat": 4,
 "nbformat_minor": 5
}
